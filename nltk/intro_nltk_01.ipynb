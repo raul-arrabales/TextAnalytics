{
  "nbformat": 4,
  "nbformat_minor": 0,
  "metadata": {
    "kernelspec": {
      "name": "python3",
      "display_name": "Python 3"
    },
    "colab": {
      "name": "intro-nltk-01.ipynb",
      "provenance": []
    },
    "language_info": {
      "name": "python"
    },
    "accelerator": "GPU"
  },
  "cells": [
    {
      "cell_type": "markdown",
      "metadata": {
        "id": "ZHSJF9trdjt5"
      },
      "source": [
        "# **Introducción al uso de NLTK**\n",
        "\n",
        "Versión adaptada para Google Colab\n"
      ]
    },
    {
      "cell_type": "markdown",
      "metadata": {
        "id": "APOjfwu5d2Jh"
      },
      "source": [
        "## Configuración y descarga de NLTK"
      ]
    },
    {
      "cell_type": "code",
      "metadata": {
        "collapsed": true,
        "id": "Bltx_rRKY431"
      },
      "source": [
        "# Importamos la biblioteca NLTK\n",
        "# Info: https://www.nltk.org/ \n",
        "import nltk"
      ],
      "execution_count": null,
      "outputs": []
    },
    {
      "cell_type": "code",
      "metadata": {
        "colab": {
          "base_uri": "https://localhost:8080/"
        },
        "id": "mW-ZO91dY436",
        "outputId": "3ee87a5a-7b59-4ce5-c768-2708449f9926"
      },
      "source": [
        "# NLTK contiene múltiples recursos, como corpora y modelos. \n",
        "# Con la función download elegimos qué queremos descargar. \n",
        "# En este caso, nos basta con la colección del libro (\"book\")\n",
        "nltk.download()"
      ],
      "execution_count": null,
      "outputs": [
        {
          "output_type": "stream",
          "text": [
            "NLTK Downloader\n",
            "---------------------------------------------------------------------------\n",
            "    d) Download   l) List    u) Update   c) Config   h) Help   q) Quit\n",
            "---------------------------------------------------------------------------\n",
            "Downloader> d book\n",
            "    Downloading collection u'book'\n",
            "       | \n",
            "       | Downloading package abc to /root/nltk_data...\n",
            "       |   Unzipping corpora/abc.zip.\n",
            "       | Downloading package brown to /root/nltk_data...\n",
            "       |   Unzipping corpora/brown.zip.\n",
            "       | Downloading package chat80 to /root/nltk_data...\n",
            "       |   Unzipping corpora/chat80.zip.\n",
            "       | Downloading package cmudict to /root/nltk_data...\n",
            "       |   Unzipping corpora/cmudict.zip.\n",
            "       | Downloading package conll2000 to /root/nltk_data...\n",
            "       |   Unzipping corpora/conll2000.zip.\n",
            "       | Downloading package conll2002 to /root/nltk_data...\n",
            "       |   Unzipping corpora/conll2002.zip.\n",
            "       | Downloading package dependency_treebank to /root/nltk_data...\n",
            "       |   Unzipping corpora/dependency_treebank.zip.\n",
            "       | Downloading package genesis to /root/nltk_data...\n",
            "       |   Unzipping corpora/genesis.zip.\n",
            "       | Downloading package gutenberg to /root/nltk_data...\n",
            "       |   Unzipping corpora/gutenberg.zip.\n",
            "       | Downloading package ieer to /root/nltk_data...\n",
            "       |   Unzipping corpora/ieer.zip.\n",
            "       | Downloading package inaugural to /root/nltk_data...\n",
            "       |   Unzipping corpora/inaugural.zip.\n",
            "       | Downloading package movie_reviews to /root/nltk_data...\n",
            "       |   Unzipping corpora/movie_reviews.zip.\n",
            "       | Downloading package nps_chat to /root/nltk_data...\n",
            "       |   Unzipping corpora/nps_chat.zip.\n",
            "       | Downloading package names to /root/nltk_data...\n",
            "       |   Unzipping corpora/names.zip.\n",
            "       | Downloading package ppattach to /root/nltk_data...\n",
            "       |   Unzipping corpora/ppattach.zip.\n",
            "       | Downloading package reuters to /root/nltk_data...\n",
            "       | Downloading package senseval to /root/nltk_data...\n",
            "       |   Unzipping corpora/senseval.zip.\n",
            "       | Downloading package state_union to /root/nltk_data...\n",
            "       |   Unzipping corpora/state_union.zip.\n",
            "       | Downloading package stopwords to /root/nltk_data...\n",
            "       |   Unzipping corpora/stopwords.zip.\n",
            "       | Downloading package swadesh to /root/nltk_data...\n",
            "       |   Unzipping corpora/swadesh.zip.\n",
            "       | Downloading package timit to /root/nltk_data...\n",
            "       |   Unzipping corpora/timit.zip.\n",
            "       | Downloading package treebank to /root/nltk_data...\n",
            "       |   Unzipping corpora/treebank.zip.\n",
            "       | Downloading package toolbox to /root/nltk_data...\n",
            "       |   Unzipping corpora/toolbox.zip.\n",
            "       | Downloading package udhr to /root/nltk_data...\n",
            "       |   Unzipping corpora/udhr.zip.\n",
            "       | Downloading package udhr2 to /root/nltk_data...\n",
            "       |   Unzipping corpora/udhr2.zip.\n",
            "       | Downloading package unicode_samples to /root/nltk_data...\n",
            "       |   Unzipping corpora/unicode_samples.zip.\n",
            "       | Downloading package webtext to /root/nltk_data...\n",
            "       |   Unzipping corpora/webtext.zip.\n",
            "       | Downloading package wordnet to /root/nltk_data...\n",
            "       |   Unzipping corpora/wordnet.zip.\n",
            "       | Downloading package wordnet_ic to /root/nltk_data...\n",
            "       |   Unzipping corpora/wordnet_ic.zip.\n",
            "       | Downloading package words to /root/nltk_data...\n",
            "       |   Unzipping corpora/words.zip.\n",
            "       | Downloading package maxent_treebank_pos_tagger to\n",
            "       |     /root/nltk_data...\n",
            "       |   Unzipping taggers/maxent_treebank_pos_tagger.zip.\n",
            "       | Downloading package maxent_ne_chunker to /root/nltk_data...\n",
            "       |   Unzipping chunkers/maxent_ne_chunker.zip.\n",
            "       | Downloading package universal_tagset to /root/nltk_data...\n",
            "       |   Unzipping taggers/universal_tagset.zip.\n",
            "       | Downloading package punkt to /root/nltk_data...\n",
            "       |   Unzipping tokenizers/punkt.zip.\n",
            "       | Downloading package book_grammars to /root/nltk_data...\n",
            "       |   Unzipping grammars/book_grammars.zip.\n",
            "       | Downloading package city_database to /root/nltk_data...\n",
            "       |   Unzipping corpora/city_database.zip.\n",
            "       | Downloading package tagsets to /root/nltk_data...\n",
            "       |   Unzipping help/tagsets.zip.\n",
            "       | Downloading package panlex_swadesh to /root/nltk_data...\n",
            "       | Downloading package averaged_perceptron_tagger to\n",
            "       |     /root/nltk_data...\n",
            "       |   Unzipping taggers/averaged_perceptron_tagger.zip.\n",
            "       | \n",
            "     Done downloading collection book\n",
            "\n",
            "---------------------------------------------------------------------------\n",
            "    d) Download   l) List    u) Update   c) Config   h) Help   q) Quit\n",
            "---------------------------------------------------------------------------\n",
            "Downloader> q\n"
          ],
          "name": "stdout"
        },
        {
          "output_type": "execute_result",
          "data": {
            "text/plain": [
              "True"
            ]
          },
          "metadata": {
            "tags": []
          },
          "execution_count": 2
        }
      ]
    },
    {
      "cell_type": "markdown",
      "metadata": {
        "id": "wprKaRbud-Ia"
      },
      "source": [
        "## \"Hola Mundo\" con NLTK"
      ]
    },
    {
      "cell_type": "code",
      "metadata": {
        "colab": {
          "base_uri": "https://localhost:8080/"
        },
        "id": "N4eHuJFZY438",
        "outputId": "4bc4a502-ce9a-4315-d8fe-09e4e750d695"
      },
      "source": [
        "from nltk.book import *"
      ],
      "execution_count": null,
      "outputs": [
        {
          "output_type": "stream",
          "text": [
            "*** Introductory Examples for the NLTK Book ***\n",
            "Loading text1, ..., text9 and sent1, ..., sent9\n",
            "Type the name of the text or sentence to view it.\n",
            "Type: 'texts()' or 'sents()' to list the materials.\n",
            "text1: Moby Dick by Herman Melville 1851\n",
            "text2: Sense and Sensibility by Jane Austen 1811\n",
            "text3: The Book of Genesis\n",
            "text4: Inaugural Address Corpus\n",
            "text5: Chat Corpus\n",
            "text6: Monty Python and the Holy Grail\n",
            "text7: Wall Street Journal\n",
            "text8: Personals Corpus\n",
            "text9: The Man Who Was Thursday by G . K . Chesterton 1908\n"
          ],
          "name": "stdout"
        }
      ]
    },
    {
      "cell_type": "code",
      "metadata": {
        "collapsed": true,
        "colab": {
          "base_uri": "https://localhost:8080/"
        },
        "id": "lhtEg_TVY438",
        "outputId": "40695126-cdb8-43e4-c7ae-8b78e98e1060"
      },
      "source": [
        "# En la variable envoltorio text1 tenemos el libro Moby Dick\n",
        "text1[24]"
      ],
      "execution_count": null,
      "outputs": [
        {
          "output_type": "execute_result",
          "data": {
            "text/plain": [
              "u'Usher'"
            ]
          },
          "metadata": {
            "tags": []
          },
          "execution_count": 7
        }
      ]
    },
    {
      "cell_type": "code",
      "metadata": {
        "id": "wn5yUZiDcGj7",
        "colab": {
          "base_uri": "https://localhost:8080/"
        },
        "outputId": "81a5cacd-7a9a-4ce4-ebac-bfab8fb81e30"
      },
      "source": [
        "# Se trata de una estructura de datos propia de NLTK:\n",
        "type(text1)"
      ],
      "execution_count": null,
      "outputs": [
        {
          "output_type": "execute_result",
          "data": {
            "text/plain": [
              "nltk.text.Text"
            ]
          },
          "metadata": {
            "tags": []
          },
          "execution_count": 4
        }
      ]
    },
    {
      "cell_type": "code",
      "metadata": {
        "id": "wCJQQE33cIi6",
        "colab": {
          "base_uri": "https://localhost:8080/"
        },
        "outputId": "c90a27ad-92a6-479f-d302-daa93f32e1cf"
      },
      "source": [
        "# Podemos observar por ejemplo la concordancia de palabras\n",
        "# y observar las ocurrencias en su contexto:\n",
        "text1.concordance('cannibal')"
      ],
      "execution_count": null,
      "outputs": [
        {
          "output_type": "stream",
          "text": [
            "Displaying 19 of 19 matches:\n",
            "azed , and wondered what monstrous cannibal and savage could ever have gone a \n",
            "e holy Sabbath , engaged in such a cannibal business as selling the heads of d\n",
            "t was extinguished , and this wild cannibal , tomahawk between his teeth , spr\n",
            " , I kill - e !\" again growled the cannibal , while his horrid flourishings of\n",
            "hat that infernal harpooneer was a cannibal ?\" \" I thought ye know ' d it ;-- \n",
            "the whole a clean , comely looking cannibal . What ' s all this fuss I have be\n",
            "of him . Better sleep with a sober cannibal than a drunken Christian . \" Landl\n",
            "ge house in the broad day , with a cannibal and a tomahawk ! \" Queequeg !-- in\n",
            "h sadly vitiated , I fear , by the cannibal propensity he nourished in his unt\n",
            "tain , \" I ' ll kill - e YOU , you cannibal , if you try any more of your tric\n",
            " . She was a thing of trophies . A cannibal of a craft , tricking herself fort\n",
            " had not suspected my friend was a cannibal , and furthermore announcing that \n",
            "that sight take a tooth out of the cannibal ' s jaw ? Cannibals ? who is not a\n",
            "' s jaw ? Cannibals ? who is not a cannibal ? I tell you it will be more toler\n",
            "to kindle a fire in this shivering cannibal ? Ginger !-- what the devil is gin\n",
            "the Zodiac himself . What says the Cannibal ? As I live he ' s comparing notes\n",
            " they had been lost by some little cannibal urchins , the priest ' s children \n",
            "tiered sharks , and thy kidnapping cannibal ways . Let faith oust fact ; let f\n",
            "nd his mother tells him of me , of cannibal old me ; how I am abroad upon the \n"
          ],
          "name": "stdout"
        }
      ]
    },
    {
      "cell_type": "code",
      "metadata": {
        "id": "-Tf3_hs5cWcS",
        "colab": {
          "base_uri": "https://localhost:8080/"
        },
        "outputId": "22233ace-e80e-4883-debb-ee0ed6bda27c"
      },
      "source": [
        "# Elegimos el ancho del contexto (60 caracteres) y el número de coincidencias (10)\n",
        "text1.concordance('kill', 80, 14)"
      ],
      "execution_count": null,
      "outputs": [
        {
          "output_type": "stream",
          "text": [
            "Displaying 14 of 33 matches:\n",
            "greed to try whether I can master and kill this Sperma - ceti whale , for I coul\n",
            "ed , fifty years ago did Nathan Swain kill fifteen whales between a sunrise and \n",
            "d --\" you no speak - e , dam - me , I kill - e .\" And so saying the lighted toma\n",
            "- ee me who - ee be , or dam - me , I kill - e !\" again growled the cannibal , w\n",
            "myself as slowly as possible so as to kill time , and with a bitter sigh got bet\n",
            " say ,\" said I , \" that you came near kill - e that man there ,\" pointing to the\n",
            " to the still shivering greenhorn . \" Kill - e ,\" cried Queequeg , twisting his \n",
            "bevy small - e fish - e ; Queequeg no kill - e so small - e fish - e ; Queequeg \n",
            " - e so small - e fish - e ; Queequeg kill - e big whale !\" \" Look you ,\" roared\n",
            " you ,\" roared the Captain , \" I ' ll kill - e YOU , you cannibal , if you try a\n",
            "king in the parlor ;\"-- might as well kill both birds at once . Kill ? The Lord \n",
            "ght as well kill both birds at once . Kill ? The Lord be merciful to his ghost !\n",
            "e supper . You ' ll starve ; you ' ll kill yourself , Queequeg .\" But not a word\n",
            "may , so long as that person does not kill or insult any other person , because \n"
          ],
          "name": "stdout"
        }
      ]
    },
    {
      "cell_type": "markdown",
      "metadata": {
        "id": "b2nHpd-weF_6"
      },
      "source": [
        "## Ejemplo de análisis del texto de Don Quijote"
      ]
    },
    {
      "cell_type": "markdown",
      "metadata": {
        "id": "bqS2EKgbqoVi"
      },
      "source": [
        "### Cargar el fichero con el texto"
      ]
    },
    {
      "cell_type": "code",
      "metadata": {
        "id": "RlZHvmPDc03a"
      },
      "source": [
        "# Para cargar directamente el texto desde su URL en Internet\n",
        "import urllib\n",
        "# import gzip\n",
        "# import zipfile"
      ],
      "execution_count": null,
      "outputs": []
    },
    {
      "cell_type": "code",
      "metadata": {
        "id": "RLqe5kc-eWaa"
      },
      "source": [
        "# Don Quijote en texto plano de la biblioteca Gutenberg\n",
        "URL_quijote = \"http://www.gutenberg.org/cache/epub/2000/pg2000.txt\""
      ],
      "execution_count": null,
      "outputs": []
    },
    {
      "cell_type": "code",
      "metadata": {
        "id": "C82iSaMBehjK"
      },
      "source": [
        "# Descargar el texto plano de Don Quijote:\n",
        "response = urllib.urlopen(URL_quijote)\n",
        "quijotext_zipped = response.read()"
      ],
      "execution_count": null,
      "outputs": []
    },
    {
      "cell_type": "code",
      "metadata": {
        "colab": {
          "base_uri": "https://localhost:8080/",
          "height": 52
        },
        "id": "z_t23jMGe1NS",
        "outputId": "f42cc4b8-c6c8-4ce5-8702-6565b93ee56d"
      },
      "source": [
        "# The txt is actually downloaded as a zipped utf8 encoded text file:\n",
        "# A web server thing... \n",
        "quijotext_zipped[0:100]"
      ],
      "execution_count": null,
      "outputs": [
        {
          "output_type": "execute_result",
          "data": {
            "application/vnd.google.colaboratory.intrinsic+json": {
              "type": "string"
            },
            "text/plain": [
              "\"\\x1f\\x8b\\x08\\x08\\xa3\\t\\xef_\\x02\\xffpg2000.txt.utf8.gzip\\x00\\x94\\xbd\\xcb\\x8e\\x1cY\\x96-6'\\xc0\\x7f\\xb0\\xbc\\x1a\\xd4\\xed\\x863\\xd0\\xdd\\x10$4c\\x90\\x08>2\\x93u\\x99I\\x16\\xc9L([\\xd0\\xe0\\xb8\\x9b\\x85\\x87\\x85\\xcc\\xedx\\x99\\xb9E\\x95\\xc7\\xac\\x87wp\\x07\\x82\\xbe\\x80CB\\xe0\\xa0\\x90\\xb3l\\x01\""
            ]
          },
          "metadata": {
            "tags": []
          },
          "execution_count": 15
        }
      ]
    },
    {
      "cell_type": "code",
      "metadata": {
        "id": "LEy1T1GChxNM"
      },
      "source": [
        "# Descargo el zip a local como texto...\n",
        "# https://stackoverflow.com/questions/9419162/download-returned-zip-file-from-url \n",
        "import requests \n",
        "\n",
        "def download_url(url, save_path, chunk_size=128):\n",
        "    r = requests.get(url, stream=True)\n",
        "    with open(save_path, 'wb') as fd:\n",
        "        for chunk in r.iter_content(chunk_size=chunk_size):\n",
        "            fd.write(chunk)"
      ],
      "execution_count": null,
      "outputs": []
    },
    {
      "cell_type": "code",
      "metadata": {
        "id": "Gbnat0z4iq5r"
      },
      "source": [
        "# Mi texto de Don Quijote en local\n",
        "URI_quijote = \"quijote_local.txt\""
      ],
      "execution_count": null,
      "outputs": []
    },
    {
      "cell_type": "code",
      "metadata": {
        "id": "RCC6vmsihy3i"
      },
      "source": [
        "# Leo el texto completo (decodificando UTF-8)\n",
        "import io\n",
        "download_url(URL_quijote, URI_quijote)\n",
        "with io.open(URI_quijote, encoding=\"utf-8\") as f:\n",
        "    Quijote_lines = f.readlines()"
      ],
      "execution_count": null,
      "outputs": []
    },
    {
      "cell_type": "code",
      "metadata": {
        "id": "9y1qEAtopYW7"
      },
      "source": [
        "Quijote_unicode = urllib.urlopen(URI_quijote).read().decode('utf8')"
      ],
      "execution_count": null,
      "outputs": []
    },
    {
      "cell_type": "code",
      "metadata": {
        "colab": {
          "base_uri": "https://localhost:8080/"
        },
        "id": "2HwpPuqXppF8",
        "outputId": "0e393240-a828-4f68-8d05-c20f28bc4cad"
      },
      "source": [
        "type(Quijote_unicode)"
      ],
      "execution_count": null,
      "outputs": [
        {
          "output_type": "execute_result",
          "data": {
            "text/plain": [
              "unicode"
            ]
          },
          "metadata": {
            "tags": []
          },
          "execution_count": 22
        }
      ]
    },
    {
      "cell_type": "code",
      "metadata": {
        "colab": {
          "base_uri": "https://localhost:8080/"
        },
        "id": "FlNlS7Ulne8c",
        "outputId": "51863228-3ba8-498e-bf16-6a822c88a212"
      },
      "source": [
        "# Comprobar decodificación:\n",
        "Quijote_lines[1200:1220]"
      ],
      "execution_count": null,
      "outputs": [
        {
          "output_type": "execute_result",
          "data": {
            "text/plain": [
              "[u'servicios y mercedes.\\n',\n",
              " u'\\n',\n",
              " u'Hechas, pues, de galope y aprisa las hasta all\\xed nunca vistas ceremonias, no\\n',\n",
              " u'vio la hora don Quijote de verse a caballo y salir buscando las aventuras;\\n',\n",
              " u'y, ensillando luego a Rocinante, subi\\xf3 en \\xe9l, y, abrazando a su hu\\xe9sped, le\\n',\n",
              " u'dijo cosas tan estra\\xf1as, agradeci\\xe9ndole la merced de haberle armado\\n',\n",
              " u'caballero, que no es posible acertar a referirlas. El ventero, por verle ya\\n',\n",
              " u'fuera de la venta, con no menos ret\\xf3ricas, aunque con m\\xe1s breves palabras,\\n',\n",
              " u'respondi\\xf3 a las suyas, y, sin pedirle la costa de la posada, le dej\\xf3 ir a\\n',\n",
              " u'la buen hora.\\n',\n",
              " u'\\n',\n",
              " u'\\n',\n",
              " u'\\n',\n",
              " u'\\n',\n",
              " u'\\n',\n",
              " u'Cap\\xedtulo IV. De lo que le sucedi\\xf3 a nuestro caballero cuando sali\\xf3 de la\\n',\n",
              " u'venta\\n',\n",
              " u'\\n',\n",
              " u'\\n',\n",
              " u'La del alba ser\\xeda cuando don Quijote sali\\xf3 de la venta, tan contento, tan\\n']"
            ]
          },
          "metadata": {
            "tags": []
          },
          "execution_count": 23
        }
      ]
    },
    {
      "cell_type": "code",
      "metadata": {
        "colab": {
          "base_uri": "https://localhost:8080/"
        },
        "id": "2klMt_1qiAii",
        "outputId": "412bdf18-4f01-4efa-81ec-5b2f2fec0d95"
      },
      "source": [
        "print(\"Don Quijote tiene \" + str(len(Quijote_lines)) + \" líneas.\")"
      ],
      "execution_count": null,
      "outputs": [
        {
          "output_type": "stream",
          "text": [
            "Don Quijote tiene 37861 líneas.\n"
          ],
          "name": "stdout"
        }
      ]
    },
    {
      "cell_type": "code",
      "metadata": {
        "colab": {
          "base_uri": "https://localhost:8080/"
        },
        "id": "eClT9gVfiShS",
        "outputId": "134addc5-846a-4480-b6e6-a0e64dddf5b1"
      },
      "source": [
        "# Inspeccionar una línea\n",
        "Quijote_lines[3450]"
      ],
      "execution_count": null,
      "outputs": [
        {
          "output_type": "execute_result",
          "data": {
            "text/plain": [
              "u'querida y servida de un tal caballero como vuestra merced parece.\\n'"
            ]
          },
          "metadata": {
            "tags": []
          },
          "execution_count": 25
        }
      ]
    },
    {
      "cell_type": "code",
      "metadata": {
        "colab": {
          "base_uri": "https://localhost:8080/"
        },
        "id": "bCaSvockkO3r",
        "outputId": "7456e005-f0ec-460d-d4b4-6391cfd8cd62"
      },
      "source": [
        "# Tengo una lista de líneas\n",
        "type(Quijote_lines)"
      ],
      "execution_count": null,
      "outputs": [
        {
          "output_type": "execute_result",
          "data": {
            "text/plain": [
              "list"
            ]
          },
          "metadata": {
            "tags": []
          },
          "execution_count": 59
        }
      ]
    },
    {
      "cell_type": "code",
      "metadata": {
        "id": "5_kf8qJ_kqrK"
      },
      "source": [
        "# Construyo una única cadena\n",
        "Quijote_words = ''.join(Quijote_lines)"
      ],
      "execution_count": null,
      "outputs": []
    },
    {
      "cell_type": "code",
      "metadata": {
        "colab": {
          "base_uri": "https://localhost:8080/"
        },
        "id": "QA4TmkzFky8i",
        "outputId": "e68ff9a4-d560-4942-eab0-e1a05ad2dcab"
      },
      "source": [
        "print(\"Don Quijote tiene \" + str(len(Quijote_words)) + \" caracteres.\")"
      ],
      "execution_count": null,
      "outputs": [
        {
          "output_type": "stream",
          "text": [
            "Don Quijote tiene 2117507 caracteres.\n"
          ],
          "name": "stdout"
        }
      ]
    },
    {
      "cell_type": "code",
      "metadata": {
        "id": "WXURMZ5TgjGr"
      },
      "source": [
        "# Uso el tokenizador de NLTK\n",
        "Quijote_tokens = nltk.word_tokenize(Quijote_words, language='spanish')"
      ],
      "execution_count": null,
      "outputs": []
    },
    {
      "cell_type": "code",
      "metadata": {
        "colab": {
          "base_uri": "https://localhost:8080/"
        },
        "id": "6HzRel3Ojxzq",
        "outputId": "6fe99a12-a39b-4120-e3f9-2674ef91d666"
      },
      "source": [
        "type(Quijote_tokens)"
      ],
      "execution_count": null,
      "outputs": [
        {
          "output_type": "execute_result",
          "data": {
            "text/plain": [
              "list"
            ]
          },
          "metadata": {
            "tags": []
          },
          "execution_count": 64
        }
      ]
    },
    {
      "cell_type": "code",
      "metadata": {
        "colab": {
          "base_uri": "https://localhost:8080/"
        },
        "id": "T_6P_onJm1Jh",
        "outputId": "4f041992-ccea-4641-ea8f-6ab6e7025bf9"
      },
      "source": [
        "print(\"Don Quijote tiene \" + str(len(Quijote_tokens)) + \" palabras.\")"
      ],
      "execution_count": null,
      "outputs": [
        {
          "output_type": "stream",
          "text": [
            "Don Quijote tiene 442210 palabras.\n"
          ],
          "name": "stdout"
        }
      ]
    },
    {
      "cell_type": "code",
      "metadata": {
        "colab": {
          "base_uri": "https://localhost:8080/"
        },
        "id": "17W5kmA3m4Ux",
        "outputId": "98c510fb-159d-473d-ce2d-79522f23af9f"
      },
      "source": [
        "# Una palabra del Quijote\n",
        "Quijote_tokens[24359]"
      ],
      "execution_count": null,
      "outputs": [
        {
          "output_type": "execute_result",
          "data": {
            "text/plain": [
              "u'ayudarme'"
            ]
          },
          "metadata": {
            "tags": []
          },
          "execution_count": 30
        }
      ]
    },
    {
      "cell_type": "code",
      "metadata": {
        "colab": {
          "base_uri": "https://localhost:8080/"
        },
        "id": "JVM1_WiZnC95",
        "outputId": "6d4d3630-fc27-43fd-e913-b9e2ab8c0ac4"
      },
      "source": [
        "Quijote_tokens[1300:1320]"
      ],
      "execution_count": null,
      "outputs": [
        {
          "output_type": "execute_result",
          "data": {
            "text/plain": [
              "[u'y',\n",
              " u'nunca',\n",
              " u'imaginados',\n",
              " u'de',\n",
              " u'otro',\n",
              " u'alguno',\n",
              " u',',\n",
              " u'bien',\n",
              " u'como',\n",
              " u'quien',\n",
              " u'se',\n",
              " u'engendr\\xf3',\n",
              " u'en',\n",
              " u'una',\n",
              " u'c\\xe1rcel',\n",
              " u',',\n",
              " u'donde',\n",
              " u'toda',\n",
              " u'incomodidad',\n",
              " u'tiene']"
            ]
          },
          "metadata": {
            "tags": []
          },
          "execution_count": 74
        }
      ]
    },
    {
      "cell_type": "markdown",
      "metadata": {
        "id": "pBjio9AFqw76"
      },
      "source": [
        "### Convertir a formato NLTK"
      ]
    },
    {
      "cell_type": "code",
      "metadata": {
        "id": "gZRaEJLhnUMR"
      },
      "source": [
        "Quijote_text = nltk.Text(Quijote_tokens)"
      ],
      "execution_count": null,
      "outputs": []
    },
    {
      "cell_type": "code",
      "metadata": {
        "colab": {
          "base_uri": "https://localhost:8080/"
        },
        "id": "K5N-_wm-qRo4",
        "outputId": "1ca97bd6-1a9d-45b5-ecdd-98ef0bbee702"
      },
      "source": [
        "type(Quijote_text)"
      ],
      "execution_count": null,
      "outputs": [
        {
          "output_type": "execute_result",
          "data": {
            "text/plain": [
              "nltk.text.Text"
            ]
          },
          "metadata": {
            "tags": []
          },
          "execution_count": 32
        }
      ]
    },
    {
      "cell_type": "code",
      "metadata": {
        "colab": {
          "base_uri": "https://localhost:8080/"
        },
        "id": "ghZYOYGWqUiZ",
        "outputId": "b9515222-ca42-4e67-88d5-64b6bcad1c94"
      },
      "source": [
        "len(Quijote_text)"
      ],
      "execution_count": null,
      "outputs": [
        {
          "output_type": "execute_result",
          "data": {
            "text/plain": [
              "442210"
            ]
          },
          "metadata": {
            "tags": []
          },
          "execution_count": 90
        }
      ]
    },
    {
      "cell_type": "code",
      "metadata": {
        "colab": {
          "base_uri": "https://localhost:8080/"
        },
        "id": "CXW280tJqZjK",
        "outputId": "3bea293c-0700-4640-b78e-a927dad17722"
      },
      "source": [
        "Quijote_text[1200:1210]"
      ],
      "execution_count": null,
      "outputs": [
        {
          "output_type": "execute_result",
          "data": {
            "text/plain": [
              "[u'que',\n",
              " u'no',\n",
              " u'desde\\xf1ar\\xe1',\n",
              " u'la',\n",
              " u'cortedad',\n",
              " u'de',\n",
              " u'tan',\n",
              " u'humilde',\n",
              " u'servicio',\n",
              " u'.']"
            ]
          },
          "metadata": {
            "tags": []
          },
          "execution_count": 94
        }
      ]
    },
    {
      "cell_type": "markdown",
      "metadata": {
        "id": "cpnbZffDq2ej"
      },
      "source": [
        "### Analizar el texto de Don Quijote"
      ]
    },
    {
      "cell_type": "code",
      "metadata": {
        "colab": {
          "base_uri": "https://localhost:8080/"
        },
        "id": "_BW2qu1HqW9g",
        "outputId": "f5c2f369-39ad-4420-fab7-6ada40e7d1b2"
      },
      "source": [
        "# Concordancia\n",
        "Quijote_text.concordance(\"asno\")"
      ],
      "execution_count": null,
      "outputs": [
        {
          "output_type": "stream",
          "text": [
            "Displaying 25 of 88 matches:\n",
            " mal criado , pues vuestra lengua de asno al amo ultraja . R. Asno se es de la\n",
            "a lengua de asno al amo ultraja . R. Asno se es de la cuna a la mortaja . ¿Que\n",
            "omó de la rienda , y del cabestro al asno , y se encaminó hacia su pueblo , bi\n",
            " , y que ansimesmo pensaba llevar un asno que tenía muy bueno , porque él no e\n",
            "echo a andar mucho a pie . En lo del asno reparó un poco don Quijote , imagina\n",
            " socorrerle , a todo el correr de su asno , y cuando llegó halló que no se pod\n",
            "fraile , apeándose ligeramente de su asno , arremetió a él y le comenzó a quit\n",
            " Panza , que tenía del cabestro a su asno , a los pies del cual estaba otro ré\n",
            "obre Rocinante ; y él subió sobre su asno y comenzó a seguir a su señor , que \n",
            "cer , caballero sobre un muy hermoso asno . -Verdad será que él debía de ir ca\n",
            "; y con todo este trabajo aparejó su asno , que también había andado algo dest\n",
            "ancho acomodó a don Quijote sobre el asno y puso de reata a Rocinante ; y , ll\n",
            " reata a Rocinante ; y , llevando al asno de cabestro , se encaminó , poco más\n",
            "e vio a don Quijote atravesado en el asno , preguntó a Sancho qué mal traía . \n",
            "mbién ayudó a vestir y a subir en el asno . Púsose luego a caballo , y , llegá\n",
            "legaron a Sancho , y , apeándole del asno , uno dellos entró por la manta de l\n",
            "ados le dejaron . Trujéronle allí su asno , y , subiéndole encima , le arropar\n",
            "ió Sancho , dio de los carcaños a su asno , y , abriéndole la puerta de la ven\n",
            "ho- , pero , ¿dónde pondremos a este asno que estemos ciertos de hallarle desp\n",
            "r verdad lo que te digo : sube en tu asno y síguelos bonitamente , y verás cóm\n",
            " como de perlas . Acudió Sancho a su asno para sacar de las alforjas con qué l\n",
            "escudero estaba , de pechos sobre su asno , con la mano en la mejilla , en gui\n",
            "sigo ; tiró el uno del cabestro a su asno , y el otro de las riendas a su roci\n",
            "vo a la hogaza . Y , antecogiendo su asno , rogó a su señor que le siguiese ; \n",
            "cinante , y Sancho del cabestro a su asno , después de haber puesto sobre él l\n"
          ],
          "name": "stdout"
        }
      ]
    },
    {
      "cell_type": "code",
      "metadata": {
        "colab": {
          "base_uri": "https://localhost:8080/"
        },
        "id": "nqw0EoSkqjaY",
        "outputId": "1c70e0a2-30c9-4347-aff2-6c2ae67bed9a"
      },
      "source": [
        "# Contextos similares\n",
        "Quijote_text.similar(\"asno\")"
      ],
      "execution_count": null,
      "outputs": [
        {
          "output_type": "stream",
          "text": [
            "escudero señor padre amo camino alma lugar caballo corazón nombre\n",
            "hombre mundo cuerpo caballero cura castillo cielo brazo gobierno\n",
            "jumento\n"
          ],
          "name": "stdout"
        }
      ]
    },
    {
      "cell_type": "code",
      "metadata": {
        "colab": {
          "base_uri": "https://localhost:8080/"
        },
        "id": "y9GtYNtGrHSp",
        "outputId": "2c82460d-d4ba-4305-f8ad-bc9bbac32f09"
      },
      "source": [
        "# Contextos comunnes para un conjunto de palabras\n",
        "Quijote_text.common_contexts([\"asno\", \"doncella\"])"
      ],
      "execution_count": null,
      "outputs": [
        {
          "output_type": "stream",
          "text": [
            "mi_que su_y\n"
          ],
          "name": "stdout"
        }
      ]
    },
    {
      "cell_type": "code",
      "metadata": {
        "colab": {
          "base_uri": "https://localhost:8080/"
        },
        "id": "Hf8-QH-JrPcJ",
        "outputId": "4d3b7665-15f6-49a5-c164-a64e440638c4"
      },
      "source": [
        "Quijote_text.common_contexts([\"asno\", \"caballo\"])"
      ],
      "execution_count": null,
      "outputs": [
        {
          "output_type": "stream",
          "text": [
            "el_y mi_que al_y del_y del_del su_y mi_y un_y un_rucio su_a el_no\n",
            "el_de del_abajo al_de\n"
          ],
          "name": "stdout"
        }
      ]
    },
    {
      "cell_type": "code",
      "metadata": {
        "colab": {
          "base_uri": "https://localhost:8080/"
        },
        "id": "PMdZDa3krSCw",
        "outputId": "9fc69393-5d18-4ca6-e396-9f3d67ef4391"
      },
      "source": [
        "Quijote_text.common_contexts([\"asno\", \"caballo\", \"perro\"])"
      ],
      "execution_count": null,
      "outputs": [
        {
          "output_type": "stream",
          "text": [
            "el_y mi_y\n"
          ],
          "name": "stdout"
        }
      ]
    },
    {
      "cell_type": "code",
      "metadata": {
        "colab": {
          "base_uri": "https://localhost:8080/"
        },
        "id": "cCZHCOF4rUZZ",
        "outputId": "bc18e4a9-c33c-44bf-893a-d507a15ae1a6"
      },
      "source": [
        "Quijote_text.common_contexts([\"gato\", \"caballo\", \"perro\"])"
      ],
      "execution_count": null,
      "outputs": [
        {
          "output_type": "stream",
          "text": [
            "el_y un_de\n"
          ],
          "name": "stdout"
        }
      ]
    },
    {
      "cell_type": "code",
      "metadata": {
        "colab": {
          "base_uri": "https://localhost:8080/",
          "height": 295
        },
        "id": "IfGULSIRrWgI",
        "outputId": "2d9d969d-cb3d-4194-d313-c341ec658300"
      },
      "source": [
        "# Localización de palabras en el texto\n",
        "Quijote_text.dispersion_plot([\"Rocinante\",\"Sancho\",\"Dulcinea\",\"libertad\",\"loco\",\"muerte\",\"amor\"])"
      ],
      "execution_count": null,
      "outputs": [
        {
          "output_type": "display_data",
          "data": {
            "image/png": "[encoded data removed]",
            "text/plain": [
              "<Figure size 432x288 with 1 Axes>"
            ]
          },
          "metadata": {
            "tags": [],
            "needs_background": "light"
          }
        }
      ]
    },
    {
      "cell_type": "code",
      "metadata": {
        "colab": {
          "base_uri": "https://localhost:8080/",
          "height": 295
        },
        "id": "4Y1Eh-7_rcGJ",
        "outputId": "58547d5d-8638-4057-d866-8debc7d8820a"
      },
      "source": [
        "Quijote_text.dispersion_plot([\"amor\", \"odio\",\"Dulci\",\"Dulcinea\", \"Sancho\"])"
      ],
      "execution_count": null,
      "outputs": [
        {
          "output_type": "display_data",
          "data": {
            "image/png": "[encoded data removed]",
            "text/plain": [
              "<Figure size 432x288 with 1 Axes>"
            ]
          },
          "metadata": {
            "tags": [],
            "needs_background": "light"
          }
        }
      ]
    },
    {
      "cell_type": "markdown",
      "metadata": {
        "id": "h0MmeklpriKa"
      },
      "source": [
        "### Métricas"
      ]
    },
    {
      "cell_type": "code",
      "metadata": {
        "colab": {
          "base_uri": "https://localhost:8080/"
        },
        "id": "JqulZXo-re7R",
        "outputId": "47d6745b-3325-42cf-92dc-a58fc47dce03"
      },
      "source": [
        "# Número de tokens\n",
        "len(Quijote_text)"
      ],
      "execution_count": null,
      "outputs": [
        {
          "output_type": "execute_result",
          "data": {
            "text/plain": [
              "442210"
            ]
          },
          "metadata": {
            "tags": []
          },
          "execution_count": 105
        }
      ]
    },
    {
      "cell_type": "code",
      "metadata": {
        "id": "j7d7g5NPrstx"
      },
      "source": [
        "# Tokens ordenados y eliminados duplicados\n",
        "ordered_tkns = sorted(set(Quijote_text))"
      ],
      "execution_count": null,
      "outputs": []
    },
    {
      "cell_type": "code",
      "metadata": {
        "colab": {
          "base_uri": "https://localhost:8080/"
        },
        "id": "z32bV8UrrxRY",
        "outputId": "0336a789-bdcf-4a3e-cc14-4d48c04e6504"
      },
      "source": [
        "ordered_tkns[0:100]"
      ],
      "execution_count": null,
      "outputs": [
        {
          "output_type": "execute_result",
          "data": {
            "text/plain": [
              "[u'!',\n",
              " u'#',\n",
              " u'$',\n",
              " u'%',\n",
              " u\"'\",\n",
              " u\"''\",\n",
              " u\"''-La\",\n",
              " u\"''-Seguid\",\n",
              " u\"''-\\xbfQui\\xe9n\",\n",
              " u\"''-\\xbfQu\\xe9\",\n",
              " u\"''Ahora\",\n",
              " u\"''Aqu\\xe9lla\",\n",
              " u\"''As\\xed\",\n",
              " u\"''Bien\",\n",
              " u\"''Cardenio\",\n",
              " u\"''Con\",\n",
              " u\"''Cr\\xe9ame\",\n",
              " u\"''Cualquiera\",\n",
              " u\"''Dadme\",\n",
              " u\"''De\",\n",
              " u\"''Debes\",\n",
              " u\"''Decid\",\n",
              " u\"''Decidme\",\n",
              " u\"''Digo\",\n",
              " u\"''D\\xe9\",\n",
              " u\"''Ellos\",\n",
              " u\"''En\",\n",
              " u\"''Esas\",\n",
              " u\"''Eso\",\n",
              " u\"''Este\",\n",
              " u\"''Gloria\",\n",
              " u\"''Gual\\xe1\",\n",
              " u\"''Hagan\",\n",
              " u\"''Hermana\",\n",
              " u\"''Hermano\",\n",
              " u\"''Hija\",\n",
              " u\"''Hijos\",\n",
              " u\"''Juro\",\n",
              " u\"''La\",\n",
              " u\"''Las\",\n",
              " u\"''Lo\",\n",
              " u\"''Luengos\",\n",
              " u\"''Maravillado\",\n",
              " u\"''Ma\\xf1ana\",\n",
              " u\"''Mi\",\n",
              " u\"''Mil\",\n",
              " u\"''Mirad\",\n",
              " u\"''Mucho\",\n",
              " u\"''Ni\",\n",
              " u\"''Ninguno\",\n",
              " u\"''No\",\n",
              " u\"''Paciencia\",\n",
              " u\"''Paz\",\n",
              " u\"''Pensar\",\n",
              " u\"''Perro\",\n",
              " u\"''Plega\",\n",
              " u\"''Poned\",\n",
              " u\"''Por\",\n",
              " u\"''Prenda\",\n",
              " u\"''Pues\",\n",
              " u\"''Quit\\xe1dmele\",\n",
              " u\"''Qui\\xe9rote\",\n",
              " u\"''Sancho\",\n",
              " u\"''Sembrad\",\n",
              " u\"''Sentaos\",\n",
              " u\"''Se\\xf1or\",\n",
              " u\"''Se\\xf1ora\",\n",
              " u\"''Si\",\n",
              " u\"''Sin\",\n",
              " u\"''Sobrino\",\n",
              " u\"''Somos\",\n",
              " u\"''S\\xed\",\n",
              " u\"''Tal\",\n",
              " u\"''Tambi\\xe9n\",\n",
              " u\"''Tan\",\n",
              " u\"''Tanto\",\n",
              " u\"''Todas\",\n",
              " u\"''Todo\",\n",
              " u\"''T\\xfa\",\n",
              " u\"''Voy\",\n",
              " u\"''Vuestra\",\n",
              " u\"''Y\",\n",
              " u\"''Ya\",\n",
              " u\"''Yo\",\n",
              " u\"''a\",\n",
              " u\"''no\",\n",
              " u\"''por\",\n",
              " u\"''\\xa1Ah\",\n",
              " u\"''\\xa1Bendito\",\n",
              " u\"''\\xa1Cepos\",\n",
              " u\"''\\xa1Com\\xe9me\",\n",
              " u\"''\\xa1Cristianos\",\n",
              " u\"''\\xa1Ea\",\n",
              " u\"''\\xa1Gracias\",\n",
              " u\"''\\xa1Hu\",\n",
              " u\"''\\xa1Mirad\",\n",
              " u\"''\\xa1Miserable\",\n",
              " u\"''\\xa1Moros\",\n",
              " u\"''\\xa1Oh\",\n",
              " u\"''\\xa1Oxte\"]"
            ]
          },
          "metadata": {
            "tags": []
          },
          "execution_count": 39
        }
      ]
    },
    {
      "cell_type": "code",
      "metadata": {
        "colab": {
          "base_uri": "https://localhost:8080/"
        },
        "id": "PJr-diozrz6x",
        "outputId": "59decf40-3058-45cf-f8ae-ba6df30b8cac"
      },
      "source": [
        "# Número de tokens únicos\n",
        "len(ordered_tkns)"
      ],
      "execution_count": null,
      "outputs": [
        {
          "output_type": "execute_result",
          "data": {
            "text/plain": [
              "26293"
            ]
          },
          "metadata": {
            "tags": []
          },
          "execution_count": 108
        }
      ]
    },
    {
      "cell_type": "code",
      "metadata": {
        "colab": {
          "base_uri": "https://localhost:8080/"
        },
        "id": "cqc3IWrvr3uw",
        "outputId": "02f73098-973d-46bc-f982-3df2c0262248"
      },
      "source": [
        "# Riqueza del texto\n",
        "\n",
        "from __future__ import division\n",
        "len(ordered_tkns) / len(Quijote_text)"
      ],
      "execution_count": null,
      "outputs": [
        {
          "output_type": "execute_result",
          "data": {
            "text/plain": [
              "0.05945817597973813"
            ]
          },
          "metadata": {
            "tags": []
          },
          "execution_count": 111
        }
      ]
    },
    {
      "cell_type": "code",
      "metadata": {
        "colab": {
          "base_uri": "https://localhost:8080/"
        },
        "id": "FLCJpLZgr6mR",
        "outputId": "af5292a5-6d73-4a20-cf80-f5f9e1d3786e"
      },
      "source": [
        "Quijote_text.count(\"Sancho\") / Quijote_text.count(\"Dulcinea\")"
      ],
      "execution_count": null,
      "outputs": [
        {
          "output_type": "execute_result",
          "data": {
            "text/plain": [
              "5.859205776173285"
            ]
          },
          "metadata": {
            "tags": []
          },
          "execution_count": 112
        }
      ]
    },
    {
      "cell_type": "code",
      "metadata": {
        "colab": {
          "base_uri": "https://localhost:8080/"
        },
        "id": "LyEzjXxwsEP4",
        "outputId": "f1daa83b-e523-497a-9fc2-125c1c1b3df9"
      },
      "source": [
        "Quijote_text.count(\"Sancho\") / len(Quijote_text)"
      ],
      "execution_count": null,
      "outputs": [
        {
          "output_type": "execute_result",
          "data": {
            "text/plain": [
              "0.0036702019402546303"
            ]
          },
          "metadata": {
            "tags": []
          },
          "execution_count": 113
        }
      ]
    },
    {
      "cell_type": "code",
      "metadata": {
        "colab": {
          "base_uri": "https://localhost:8080/"
        },
        "id": "qcoeekpasJbw",
        "outputId": "12375eb6-099a-4adb-f5c7-48ed69625ab5"
      },
      "source": [
        "Quijote_text.count(\"Dulcinea\") / len(Quijote_text)"
      ],
      "execution_count": null,
      "outputs": [
        {
          "output_type": "execute_result",
          "data": {
            "text/plain": [
              "0.0006263992220890527"
            ]
          },
          "metadata": {
            "tags": []
          },
          "execution_count": 114
        }
      ]
    },
    {
      "cell_type": "code",
      "metadata": {
        "colab": {
          "base_uri": "https://localhost:8080/"
        },
        "id": "UXN47XlcsNFI",
        "outputId": "779a40b1-1640-4ca5-bc9c-8ed20e695f5c"
      },
      "source": [
        "Quijote_text.count(\"que\") / len(Quijote_text)"
      ],
      "execution_count": null,
      "outputs": [
        {
          "output_type": "execute_result",
          "data": {
            "text/plain": [
              "0.04640329255331178"
            ]
          },
          "metadata": {
            "tags": []
          },
          "execution_count": 115
        }
      ]
    },
    {
      "cell_type": "markdown",
      "metadata": {
        "id": "nDxPmPXasS4z"
      },
      "source": [
        "### Distribución de frecuencias"
      ]
    },
    {
      "cell_type": "code",
      "metadata": {
        "id": "BuIQHNKEsR64"
      },
      "source": [
        "fdQuijote = FreqDist(Quijote_text)"
      ],
      "execution_count": null,
      "outputs": []
    },
    {
      "cell_type": "code",
      "metadata": {
        "colab": {
          "base_uri": "https://localhost:8080/"
        },
        "id": "VrZxRc2ZsXQo",
        "outputId": "77b5ba0a-33eb-4b69-8019-8e6996b8f8c7"
      },
      "source": [
        "fdQuijote.(most_common10)"
      ],
      "execution_count": null,
      "outputs": [
        {
          "output_type": "execute_result",
          "data": {
            "text/plain": [
              "[(u',', 40320),\n",
              " (u'que', 20520),\n",
              " (u'de', 17992),\n",
              " (u'y', 17155),\n",
              " (u'la', 10201),\n",
              " (u'a', 9580),\n",
              " (u'.', 8094),\n",
              " (u'el', 7960),\n",
              " (u'en', 7900),\n",
              " (u'no', 5766)]"
            ]
          },
          "metadata": {
            "tags": []
          },
          "execution_count": 117
        }
      ]
    },
    {
      "cell_type": "code",
      "metadata": {
        "colab": {
          "base_uri": "https://localhost:8080/"
        },
        "id": "Y4f9rMhHsZmg",
        "outputId": "91e26b5f-db8c-4cfc-d909-f38b75e9ccf7"
      },
      "source": [
        "fdQuijote['Sancho']"
      ],
      "execution_count": null,
      "outputs": [
        {
          "output_type": "execute_result",
          "data": {
            "text/plain": [
              "1623"
            ]
          },
          "metadata": {
            "tags": []
          },
          "execution_count": 118
        }
      ]
    },
    {
      "cell_type": "code",
      "metadata": {
        "colab": {
          "base_uri": "https://localhost:8080/",
          "height": 309
        },
        "id": "7tNHyZK4sb8Q",
        "outputId": "4d901549-0465-4fc5-a9af-5d7d8b6aad81"
      },
      "source": [
        "fdQuijote.plot(40, cumulative=False)"
      ],
      "execution_count": null,
      "outputs": [
        {
          "output_type": "display_data",
          "data": {
            "image/png": "[encoded data removed]",
            "text/plain": [
              "<Figure size 432x288 with 1 Axes>"
            ]
          },
          "metadata": {
            "tags": [],
            "needs_background": "light"
          }
        }
      ]
    },
    {
      "cell_type": "code",
      "metadata": {
        "colab": {
          "base_uri": "https://localhost:8080/",
          "height": 292
        },
        "id": "0BqP8qxWsfhY",
        "outputId": "1536a20d-02f7-4803-fa3f-8fdc45a71f5f"
      },
      "source": [
        "fdQuijote.plot(10, cumulative=False)"
      ],
      "execution_count": null,
      "outputs": [
        {
          "output_type": "display_data",
          "data": {
            "image/png": "[encoded data removed]",
            "text/plain": [
              "<Figure size 432x288 with 1 Axes>"
            ]
          },
          "metadata": {
            "tags": [],
            "needs_background": "light"
          }
        }
      ]
    },
    {
      "cell_type": "markdown",
      "metadata": {
        "id": "1Mdqhh8nsnAD"
      },
      "source": [
        "### Selección de palabras"
      ]
    },
    {
      "cell_type": "code",
      "metadata": {
        "id": "PkNAFWuHshvo"
      },
      "source": [
        "# Palabras que sólo aparecen una vez\n",
        "rareWords = fdQuijote.hapaxes()"
      ],
      "execution_count": null,
      "outputs": []
    },
    {
      "cell_type": "code",
      "metadata": {
        "colab": {
          "base_uri": "https://localhost:8080/"
        },
        "id": "RSzucffUsrW4",
        "outputId": "9e8064fc-e449-46ea-c4f4-26efb70ae6c8"
      },
      "source": [
        "rareWords[1:10]"
      ],
      "execution_count": null,
      "outputs": [
        {
          "output_type": "execute_result",
          "data": {
            "text/plain": [
              "[u'\\xbfventa',\n",
              " u'acurruc\\xf3',\n",
              " u't\\xeda',\n",
              " u'-Pintad',\n",
              " u'gastara',\n",
              " u'Jerusal\\xe9n',\n",
              " u'llanas',\n",
              " u'receiving',\n",
              " u'arrastradas']"
            ]
          },
          "metadata": {
            "tags": []
          },
          "execution_count": 44
        }
      ]
    },
    {
      "cell_type": "code",
      "metadata": {
        "colab": {
          "base_uri": "https://localhost:8080/"
        },
        "id": "ee4OkcZdstHY",
        "outputId": "76c0e27d-c754-4063-b704-2e490df7fd19"
      },
      "source": [
        "# Palabras largas\n",
        "long_words = [w for w in ordered_tkns if len(w) > 17]\n",
        "sorted(long_words)"
      ],
      "execution_count": null,
      "outputs": [
        {
          "output_type": "execute_result",
          "data": {
            "text/plain": [
              "[u'//gutenberg.org/license',\n",
              " u'//pglaf.org/donate',\n",
              " u'//pglaf.org/fundraising',\n",
              " u'//www.gutenberg.org',\n",
              " u'//www.gutenberg.org/2/0/0/2000/',\n",
              " u'asombrado.Pregunt\\xf3',\n",
              " u'bienintencionadamente',\n",
              " u'correspondi\\xe9ndoles',\n",
              " u'desembarazadamente',\n",
              " u'estraordinariamente',\n",
              " u'extraordinariamente',\n",
              " u'trademark/copyright',\n",
              " u'\\xa1Desagradecimiento']"
            ]
          },
          "metadata": {
            "tags": []
          },
          "execution_count": 123
        }
      ]
    },
    {
      "cell_type": "code",
      "metadata": {
        "colab": {
          "base_uri": "https://localhost:8080/"
        },
        "id": "nHSrYI-ZsvbA",
        "outputId": "84d91fcf-d12e-40ee-8896-01fe4995a1a1"
      },
      "source": [
        "# Palabras más largas de 8 caracteres que aparecen más de 100 veces\n",
        "sorted(w for w in ordered_tkns if len(w) > 8 and fdQuijote[w] > 100)"
      ],
      "execution_count": null,
      "outputs": [
        {
          "output_type": "execute_result",
          "data": {
            "text/plain": [
              "[u'-respondi\\xf3',\n",
              " u'Rocinante',\n",
              " u'caballero',\n",
              " u'caballeros',\n",
              " u'caballer\\xeda',\n",
              " u'gobernador',\n",
              " u'hermosura',\n",
              " u'intenci\\xf3n',\n",
              " u'pensamientos',\n",
              " u'respondi\\xf3']"
            ]
          },
          "metadata": {
            "tags": []
          },
          "execution_count": 124
        }
      ]
    },
    {
      "cell_type": "code",
      "metadata": {
        "colab": {
          "base_uri": "https://localhost:8080/"
        },
        "id": "YCtqZCWPsyqo",
        "outputId": "41b6c1ce-38de-48f1-f343-83bf22545f4e"
      },
      "source": [
        "# bigramas\n",
        "Quijote_text.collocations()"
      ],
      "execution_count": null,
      "outputs": [
        {
          "output_type": "stream",
          "text": [
            "vuestra merced; Sancho Panza; -respondió Sancho-; vuesa merced;\n",
            "caballeros andantes; -dijo Sancho-; los ojos; todos los; del Toboso;\n",
            "otra cosa; caballero andante; sin duda; las manos; todas las; Project\n",
            "Gutenberg-tm; muchas veces; señora Dulcinea; cada uno; Triste Figura;\n",
            "los dos\n"
          ],
          "name": "stdout"
        }
      ]
    },
    {
      "cell_type": "code",
      "metadata": {
        "id": "-0lvdmGHs1_P"
      },
      "source": [
        ""
      ],
      "execution_count": null,
      "outputs": []
    }
  ]
}