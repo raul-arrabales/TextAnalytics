{
 "cells": [
  {
   "cell_type": "code",
   "execution_count": 1,
   "metadata": {
    "collapsed": true
   },
   "outputs": [],
   "source": [
    "import nltk"
   ]
  },
  {
   "cell_type": "code",
   "execution_count": 2,
   "metadata": {},
   "outputs": [
    {
     "name": "stdout",
     "output_type": "stream",
     "text": [
      "*** Introductory Examples for the NLTK Book ***\n",
      "Loading text1, ..., text9 and sent1, ..., sent9\n",
      "Type the name of the text or sentence to view it.\n",
      "Type: 'texts()' or 'sents()' to list the materials.\n",
      "text1: Moby Dick by Herman Melville 1851\n",
      "text2: Sense and Sensibility by Jane Austen 1811\n",
      "text3: The Book of Genesis\n",
      "text4: Inaugural Address Corpus\n",
      "text5: Chat Corpus\n",
      "text6: Monty Python and the Holy Grail\n",
      "text7: Wall Street Journal\n",
      "text8: Personals Corpus\n",
      "text9: The Man Who Was Thursday by G . K . Chesterton 1908\n"
     ]
    }
   ],
   "source": [
    "from nltk.book import *"
   ]
  },
  {
   "cell_type": "code",
   "execution_count": 3,
   "metadata": {},
   "outputs": [
    {
     "data": {
      "text/plain": [
       "<Text: Moby Dick by Herman Melville 1851>"
      ]
     },
     "execution_count": 3,
     "metadata": {},
     "output_type": "execute_result"
    }
   ],
   "source": [
    "text1"
   ]
  },
  {
   "cell_type": "code",
   "execution_count": 4,
   "metadata": {},
   "outputs": [
    {
     "name": "stdout",
     "output_type": "stream",
     "text": [
      "Displaying 19 of 19 matches:\n",
      "azed , and wondered what monstrous cannibal and savage could ever have gone a \n",
      "e holy Sabbath , engaged in such a cannibal business as selling the heads of d\n",
      "t was extinguished , and this wild cannibal , tomahawk between his teeth , spr\n",
      " , I kill - e !\" again growled the cannibal , while his horrid flourishings of\n",
      "hat that infernal harpooneer was a cannibal ?\" \" I thought ye know ' d it ;-- \n",
      "the whole a clean , comely looking cannibal . What ' s all this fuss I have be\n",
      "of him . Better sleep with a sober cannibal than a drunken Christian . \" Landl\n",
      "ge house in the broad day , with a cannibal and a tomahawk ! \" Queequeg !-- in\n",
      "h sadly vitiated , I fear , by the cannibal propensity he nourished in his unt\n",
      "tain , \" I ' ll kill - e YOU , you cannibal , if you try any more of your tric\n",
      " . She was a thing of trophies . A cannibal of a craft , tricking herself fort\n",
      " had not suspected my friend was a cannibal , and furthermore announcing that \n",
      "that sight take a tooth out of the cannibal ' s jaw ? Cannibals ? who is not a\n",
      "' s jaw ? Cannibals ? who is not a cannibal ? I tell you it will be more toler\n",
      "to kindle a fire in this shivering cannibal ? Ginger !-- what the devil is gin\n",
      "the Zodiac himself . What says the Cannibal ? As I live he ' s comparing notes\n",
      " they had been lost by some little cannibal urchins , the priest ' s children \n",
      "tiered sharks , and thy kidnapping cannibal ways . Let faith oust fact ; let f\n",
      "nd his mother tells him of me , of cannibal old me ; how I am abroad upon the \n"
     ]
    }
   ],
   "source": [
    "text1.concordance('cannibal')"
   ]
  },
  {
   "cell_type": "code",
   "execution_count": null,
   "metadata": {
    "collapsed": true
   },
   "outputs": [],
   "source": []
  }
 ],
 "metadata": {
  "kernelspec": {
   "display_name": "Python 2",
   "language": "python",
   "name": "python2"
  },
  "language_info": {
   "codemirror_mode": {
    "name": "ipython",
    "version": 2
   },
   "file_extension": ".py",
   "mimetype": "text/x-python",
   "name": "python",
   "nbconvert_exporter": "python",
   "pygments_lexer": "ipython2",
   "version": "2.7.13"
  }
 },
 "nbformat": 4,
 "nbformat_minor": 2
}
