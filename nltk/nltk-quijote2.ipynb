{
 "cells": [
  {
   "cell_type": "code",
   "execution_count": 1,
   "metadata": {
    "collapsed": true
   },
   "outputs": [],
   "source": [
    "import nltk"
   ]
  },
  {
   "cell_type": "code",
   "execution_count": 3,
   "metadata": {},
   "outputs": [
    {
     "name": "stdout",
     "output_type": "stream",
     "text": [
      "showing info https://raw.githubusercontent.com/nltk/nltk_data/gh-pages/index.xml\n"
     ]
    },
    {
     "data": {
      "text/plain": [
       "True"
      ]
     },
     "execution_count": 3,
     "metadata": {},
     "output_type": "execute_result"
    }
   ],
   "source": [
    "nltk.download()"
   ]
  },
  {
   "cell_type": "code",
   "execution_count": 4,
   "metadata": {},
   "outputs": [
    {
     "name": "stdout",
     "output_type": "stream",
     "text": [
      "*** Introductory Examples for the NLTK Book ***\n",
      "Loading text1, ..., text9 and sent1, ..., sent9\n",
      "Type the name of the text or sentence to view it.\n",
      "Type: 'texts()' or 'sents()' to list the materials.\n",
      "text1: Moby Dick by Herman Melville 1851\n",
      "text2: Sense and Sensibility by Jane Austen 1811\n",
      "text3: The Book of Genesis\n",
      "text4: Inaugural Address Corpus\n",
      "text5: Chat Corpus\n",
      "text6: Monty Python and the Holy Grail\n",
      "text7: Wall Street Journal\n",
      "text8: Personals Corpus\n",
      "text9: The Man Who Was Thursday by G . K . Chesterton 1908\n"
     ]
    }
   ],
   "source": [
    "from nltk.book import *"
   ]
  },
  {
   "cell_type": "code",
   "execution_count": 5,
   "metadata": {
    "collapsed": true
   },
   "outputs": [],
   "source": [
    "import urllib \n",
    "url = \"http://www.gutenberg.org/cache/epub/2000/pg2000.txt\"\n",
    "response = urllib.urlopen(url)"
   ]
  },
  {
   "cell_type": "code",
   "execution_count": 6,
   "metadata": {
    "collapsed": true
   },
   "outputs": [],
   "source": [
    "quijote = response.read().decode('utf8')"
   ]
  },
  {
   "cell_type": "code",
   "execution_count": 7,
   "metadata": {},
   "outputs": [
    {
     "data": {
      "text/plain": [
       "unicode"
      ]
     },
     "execution_count": 7,
     "metadata": {},
     "output_type": "execute_result"
    }
   ],
   "source": [
    "type(quijote)"
   ]
  },
  {
   "cell_type": "code",
   "execution_count": 8,
   "metadata": {},
   "outputs": [
    {
     "data": {
      "text/plain": [
       "2155359"
      ]
     },
     "execution_count": 8,
     "metadata": {},
     "output_type": "execute_result"
    }
   ],
   "source": [
    "len(quijote)"
   ]
  },
  {
   "cell_type": "code",
   "execution_count": 9,
   "metadata": {},
   "outputs": [
    {
     "data": {
      "text/plain": [
       "u'\\ufeffThe Project Gutenberg EBook of Don Quijote, by Miguel de Cervantes Saavedra\\r\\n\\r\\nThis eBook is for the use of anyone anywhere at no cost and with\\r\\nalmost no restrictions whatsoever.  You may copy it, give it away or\\r\\nre-use it under the terms of the Project Gutenberg License included\\r\\nwith this eBook or online at www.gutenberg.net\\r\\n\\r\\n\\r\\nTitle: Don Quijote\\r\\n\\r\\nAuthor: Miguel de Cervantes Saavedra\\r\\n\\r\\nPosting Date: April 27, 2010 [EBook #2000]\\r\\nRelease Date: December, 1999\\r\\n\\r\\nLanguage: Spanish\\r\\n\\r\\n\\r\\n*** START OF THIS PROJECT GUTENBERG EBOOK DON QUIJOTE ***\\r\\n\\r\\n\\r\\n\\r\\n\\r\\nProduced by an anonymous Project Gutenberg volunteer. Text\\r\\nfile corrections and new HTML file by Joaquin Cuenca Abela.\\r\\n\\r\\n\\r\\n\\r\\n\\r\\n\\r\\n\\r\\n\\r\\n\\r\\n\\r\\n\\r\\n\\r\\nEl ingenioso hidalgo don Quijote de la Mancha\\r\\n\\r\\n\\r\\nTASA\\r\\n\\r\\nYo, Juan Gallo de Andrada, escribano de C\\xe1mara del Rey nuestro se\\xf1or, de\\r\\nlos que residen en su Consejo, certifico y doy fe que, habiendo visto por\\r\\nlos se\\xf1ores d\\xe9l un libro intitulado El ingenioso hidalgo de la Mancha,\\r\\ncompuesto por Miguel de Cervantes Saavedra, tasaron cada pliego del dicho\\r\\nlibro a tres maraved\\xeds y medio; el cual tiene ochenta y tres pliegos, que\\r\\nal dicho precio monta el dicho libro docientos y noventa maraved\\xeds y medio,\\r\\nen que se ha de vender en papel; y dieron licencia para que a este precio\\r\\nse pueda v'"
      ]
     },
     "execution_count": 9,
     "metadata": {},
     "output_type": "execute_result"
    }
   ],
   "source": [
    "quijote[:1300]"
   ]
  },
  {
   "cell_type": "code",
   "execution_count": 10,
   "metadata": {
    "collapsed": true
   },
   "outputs": [],
   "source": [
    "quijote_tokens = nltk.word_tokenize(quijote)"
   ]
  },
  {
   "cell_type": "code",
   "execution_count": 11,
   "metadata": {},
   "outputs": [
    {
     "data": {
      "text/plain": [
       "list"
      ]
     },
     "execution_count": 11,
     "metadata": {},
     "output_type": "execute_result"
    }
   ],
   "source": [
    "type(quijote_tokens)"
   ]
  },
  {
   "cell_type": "code",
   "execution_count": 12,
   "metadata": {},
   "outputs": [
    {
     "data": {
      "text/plain": [
       "442206"
      ]
     },
     "execution_count": 12,
     "metadata": {},
     "output_type": "execute_result"
    }
   ],
   "source": [
    "len(quijote_tokens)"
   ]
  },
  {
   "cell_type": "code",
   "execution_count": 13,
   "metadata": {},
   "outputs": [
    {
     "data": {
      "text/plain": [
       "[u'y',\n",
       " u'nunca',\n",
       " u'imaginados',\n",
       " u'de',\n",
       " u'otro',\n",
       " u'alguno',\n",
       " u',',\n",
       " u'bien',\n",
       " u'como',\n",
       " u'quien']"
      ]
     },
     "execution_count": 13,
     "metadata": {},
     "output_type": "execute_result"
    }
   ],
   "source": [
    "quijote_tokens[1300:1310]"
   ]
  },
  {
   "cell_type": "code",
   "execution_count": 14,
   "metadata": {
    "collapsed": true
   },
   "outputs": [],
   "source": [
    "quijote_text = nltk.Text(quijote_tokens)"
   ]
  },
  {
   "cell_type": "code",
   "execution_count": 15,
   "metadata": {},
   "outputs": [
    {
     "data": {
      "text/plain": [
       "nltk.text.Text"
      ]
     },
     "execution_count": 15,
     "metadata": {},
     "output_type": "execute_result"
    }
   ],
   "source": [
    "type(quijote_text)"
   ]
  },
  {
   "cell_type": "code",
   "execution_count": 16,
   "metadata": {},
   "outputs": [
    {
     "data": {
      "text/plain": [
       "442206"
      ]
     },
     "execution_count": 16,
     "metadata": {},
     "output_type": "execute_result"
    }
   ],
   "source": [
    "len(quijote_text)"
   ]
  },
  {
   "cell_type": "markdown",
   "metadata": {},
   "source": [
    "### Concordancia"
   ]
  },
  {
   "cell_type": "code",
   "execution_count": 17,
   "metadata": {},
   "outputs": [
    {
     "name": "stdout",
     "output_type": "stream",
     "text": [
      "Displaying 25 of 88 matches:\n",
      " mal criado , pues vuestra lengua de asno al amo ultraja . R. Asno se es de la\n",
      "a lengua de asno al amo ultraja . R. Asno se es de la cuna a la mortaja . ¿Que\n",
      "omó de la rienda , y del cabestro al asno , y se encaminó hacia su pueblo , bi\n",
      " , y que ansimesmo pensaba llevar un asno que tenía muy bueno , porque él no e\n",
      "echo a andar mucho a pie . En lo del asno reparó un poco don Quijote , imagina\n",
      " socorrerle , a todo el correr de su asno , y cuando llegó halló que no se pod\n",
      "fraile , apeándose ligeramente de su asno , arremetió a él y le comenzó a quit\n",
      " Panza , que tenía del cabestro a su asno , a los pies del cual estaba otro ré\n",
      "obre Rocinante ; y él subió sobre su asno y comenzó a seguir a su señor , que \n",
      "cer , caballero sobre un muy hermoso asno . -Verdad será que él debía de ir ca\n",
      "; y con todo este trabajo aparejó su asno , que también había andado algo dest\n",
      "ancho acomodó a don Quijote sobre el asno y puso de reata a Rocinante ; y , ll\n",
      " reata a Rocinante ; y , llevando al asno de cabestro , se encaminó , poco más\n",
      "e vio a don Quijote atravesado en el asno , preguntó a Sancho qué mal traía . \n",
      "mbién ayudó a vestir y a subir en el asno . Púsose luego a caballo , y , llegá\n",
      "legaron a Sancho , y , apeándole del asno , uno dellos entró por la manta de l\n",
      "ados le dejaron . Trujéronle allí su asno , y , subiéndole encima , le arropar\n",
      "ió Sancho , dio de los carcaños a su asno , y , abriéndole la puerta de la ven\n",
      "ho- , pero , ¿dónde pondremos a este asno que estemos ciertos de hallarle desp\n",
      "r verdad lo que te digo : sube en tu asno y síguelos bonitamente , y verás cóm\n",
      " como de perlas . Acudió Sancho a su asno para sacar de las alforjas con qué l\n",
      "escudero estaba , de pechos sobre su asno , con la mano en la mejilla , en gui\n",
      "sigo ; tiró el uno del cabestro a su asno , y el otro de las riendas a su roci\n",
      "vo a la hogaza . Y , antecogiendo su asno , rogó a su señor que le siguiese ; \n",
      "cinante , y Sancho del cabestro a su asno , después de haber puesto sobre él l\n"
     ]
    }
   ],
   "source": [
    "quijote_text.concordance(\"asno\")"
   ]
  },
  {
   "cell_type": "markdown",
   "metadata": {},
   "source": [
    "### Contextos similares"
   ]
  },
  {
   "cell_type": "code",
   "execution_count": 18,
   "metadata": {},
   "outputs": [
    {
     "name": "stdout",
     "output_type": "stream",
     "text": [
      "escudero señor padre amo camino alma lugar caballo corazón nombre\n",
      "hombre mundo cuerpo caballero cura castillo cielo brazo gobierno\n",
      "jumento\n"
     ]
    }
   ],
   "source": [
    "quijote_text.similar(\"asno\")"
   ]
  },
  {
   "cell_type": "markdown",
   "metadata": {},
   "source": [
    "### Contextos comunnes para un conjunto de palabras"
   ]
  },
  {
   "cell_type": "code",
   "execution_count": 20,
   "metadata": {},
   "outputs": [
    {
     "name": "stdout",
     "output_type": "stream",
     "text": [
      "mi_que su_y\n"
     ]
    }
   ],
   "source": [
    "quijote_text.common_contexts([\"asno\", \"doncella\"])"
   ]
  },
  {
   "cell_type": "code",
   "execution_count": 21,
   "metadata": {},
   "outputs": [
    {
     "name": "stdout",
     "output_type": "stream",
     "text": [
      "el_y mi_que al_y del_y del_del su_y mi_y un_y un_rucio su_a el_no\n",
      "el_de del_abajo al_de\n"
     ]
    }
   ],
   "source": [
    "quijote_text.common_contexts([\"asno\", \"caballo\"])"
   ]
  },
  {
   "cell_type": "code",
   "execution_count": 22,
   "metadata": {},
   "outputs": [
    {
     "name": "stdout",
     "output_type": "stream",
     "text": [
      "el_y mi_y\n"
     ]
    }
   ],
   "source": [
    "quijote_text.common_contexts([\"asno\", \"caballo\", \"perro\"])"
   ]
  },
  {
   "cell_type": "code",
   "execution_count": 23,
   "metadata": {},
   "outputs": [
    {
     "name": "stdout",
     "output_type": "stream",
     "text": [
      "el_y un_de\n"
     ]
    }
   ],
   "source": [
    "quijote_text.common_contexts([\"gato\", \"caballo\", \"perro\"])"
   ]
  },
  {
   "cell_type": "markdown",
   "metadata": {},
   "source": [
    "### Localización de palabras en el texto"
   ]
  },
  {
   "cell_type": "code",
   "execution_count": 24,
   "metadata": {},
   "outputs": [
    {
     "data": {
      "image/png": "[encoded data removed]",
      "text/plain": [
       "<matplotlib.figure.Figure at 0x7f6df5beda50>"
      ]
     },
     "metadata": {},
     "output_type": "display_data"
    }
   ],
   "source": [
    "quijote_text.dispersion_plot([\"Rocinante\",\"Sancho\",\"Dulcinea\",\"libertad\",\"loco\",\"muerte\",\"amor\"])"
   ]
  },
  {
   "cell_type": "code",
   "execution_count": 27,
   "metadata": {},
   "outputs": [
    {
     "data": {
      "image/png": "[encoded data removed]",
      "text/plain": [
       "<matplotlib.figure.Figure at 0x7f6df1d29210>"
      ]
     },
     "metadata": {},
     "output_type": "display_data"
    }
   ],
   "source": [
    "quijote_text.dispersion_plot([\"amor\",\"Dulcinea\", \"Sancho\"])"
   ]
  },
  {
   "cell_type": "markdown",
   "metadata": {},
   "source": [
    "### Métricas"
   ]
  },
  {
   "cell_type": "code",
   "execution_count": 28,
   "metadata": {},
   "outputs": [
    {
     "data": {
      "text/plain": [
       "442206"
      ]
     },
     "execution_count": 28,
     "metadata": {},
     "output_type": "execute_result"
    }
   ],
   "source": [
    "# Número de tokens\n",
    "len(quijote_text)"
   ]
  },
  {
   "cell_type": "code",
   "execution_count": 29,
   "metadata": {
    "collapsed": true
   },
   "outputs": [],
   "source": [
    "# Tokens ordenados y eliminados duplicados\n",
    "ordered_tkns = sorted(set(quijote_text))"
   ]
  },
  {
   "cell_type": "code",
   "execution_count": 30,
   "metadata": {},
   "outputs": [
    {
     "data": {
      "text/plain": [
       "[u'-Gracias', u'-Grande', u'-Gurapas', u'-Ha', u'-Habla']"
      ]
     },
     "execution_count": 30,
     "metadata": {},
     "output_type": "execute_result"
    }
   ],
   "source": [
    "ordered_tkns[324:329]"
   ]
  },
  {
   "cell_type": "code",
   "execution_count": 31,
   "metadata": {},
   "outputs": [
    {
     "data": {
      "text/plain": [
       "26293"
      ]
     },
     "execution_count": 31,
     "metadata": {},
     "output_type": "execute_result"
    }
   ],
   "source": [
    "# Númer de tokens únicos\n",
    "len(ordered_tkns)"
   ]
  },
  {
   "cell_type": "code",
   "execution_count": 32,
   "metadata": {},
   "outputs": [
    {
     "data": {
      "text/plain": [
       "0.05945871381211472"
      ]
     },
     "execution_count": 32,
     "metadata": {},
     "output_type": "execute_result"
    }
   ],
   "source": [
    "# Riqueza del texto\n",
    "\n",
    "from __future__ import division\n",
    "len(ordered_tkns) / len(quijote_text)"
   ]
  },
  {
   "cell_type": "code",
   "execution_count": 33,
   "metadata": {},
   "outputs": [
    {
     "data": {
      "text/plain": [
       "5.859205776173285"
      ]
     },
     "execution_count": 33,
     "metadata": {},
     "output_type": "execute_result"
    }
   ],
   "source": [
    "quijote_text.count(\"Sancho\") / quijote_text.count(\"Dulcinea\")"
   ]
  },
  {
   "cell_type": "code",
   "execution_count": 40,
   "metadata": {},
   "outputs": [
    {
     "data": {
      "text/plain": [
       "0.0036702351392789785"
      ]
     },
     "execution_count": 40,
     "metadata": {},
     "output_type": "execute_result"
    }
   ],
   "source": [
    "quijote_text.count(\"Sancho\") / len(quijote_text)"
   ]
  },
  {
   "cell_type": "code",
   "execution_count": 41,
   "metadata": {},
   "outputs": [
    {
     "data": {
      "text/plain": [
       "0.0006264048882195176"
      ]
     },
     "execution_count": 41,
     "metadata": {},
     "output_type": "execute_result"
    }
   ],
   "source": [
    "quijote_text.count(\"Dulcinea\") / len(quijote_text)"
   ]
  },
  {
   "cell_type": "code",
   "execution_count": 42,
   "metadata": {},
   "outputs": [
    {
     "data": {
      "text/plain": [
       "0.04640371229698376"
      ]
     },
     "execution_count": 42,
     "metadata": {},
     "output_type": "execute_result"
    }
   ],
   "source": [
    "quijote_text.count(\"que\") / len(quijote_text)"
   ]
  },
  {
   "cell_type": "markdown",
   "metadata": {},
   "source": [
    "### Distribuciones de frecuencia"
   ]
  },
  {
   "cell_type": "code",
   "execution_count": 43,
   "metadata": {
    "collapsed": true
   },
   "outputs": [],
   "source": [
    "fdQuijote = FreqDist(quijote_text)"
   ]
  },
  {
   "cell_type": "code",
   "execution_count": 44,
   "metadata": {},
   "outputs": [
    {
     "name": "stdout",
     "output_type": "stream",
     "text": [
      "<FreqDist with 26293 samples and 442206 outcomes>\n"
     ]
    }
   ],
   "source": [
    "print(fdQuijote)"
   ]
  },
  {
   "cell_type": "code",
   "execution_count": 45,
   "metadata": {},
   "outputs": [
    {
     "data": {
      "text/plain": [
       "[(u',', 40320),\n",
       " (u'que', 20520),\n",
       " (u'de', 17992),\n",
       " (u'y', 17155),\n",
       " (u'la', 10201),\n",
       " (u'a', 9580),\n",
       " (u'.', 8090),\n",
       " (u'el', 7960),\n",
       " (u'en', 7900),\n",
       " (u'no', 5766)]"
      ]
     },
     "execution_count": 45,
     "metadata": {},
     "output_type": "execute_result"
    }
   ],
   "source": [
    "fdQuijote.most_common(10)"
   ]
  },
  {
   "cell_type": "code",
   "execution_count": 46,
   "metadata": {},
   "outputs": [
    {
     "data": {
      "text/plain": [
       "1623"
      ]
     },
     "execution_count": 46,
     "metadata": {},
     "output_type": "execute_result"
    }
   ],
   "source": [
    "fdQuijote['Sancho']"
   ]
  },
  {
   "cell_type": "code",
   "execution_count": 47,
   "metadata": {},
   "outputs": [
    {
     "data": {
      "image/png": "[encoded data removed]",
      "text/plain": [
       "<matplotlib.figure.Figure at 0x7f6df3e3a350>"
      ]
     },
     "metadata": {},
     "output_type": "display_data"
    }
   ],
   "source": [
    "fdQuijote.plot(40, cumulative=True)"
   ]
  },
  {
   "cell_type": "markdown",
   "metadata": {},
   "source": [
    "### Selección de palabras"
   ]
  },
  {
   "cell_type": "code",
   "execution_count": 48,
   "metadata": {
    "collapsed": true
   },
   "outputs": [],
   "source": [
    "# Palabras que sólo aparecen una vez\n",
    "rareWords = fdQuijote.hapaxes()"
   ]
  },
  {
   "cell_type": "code",
   "execution_count": 49,
   "metadata": {},
   "outputs": [
    {
     "data": {
      "text/plain": [
       "[u'\\xbfventa',\n",
       " u'acurruc\\xf3',\n",
       " u't\\xeda',\n",
       " u'-Pintad',\n",
       " u'gastara',\n",
       " u'Jerusal\\xe9n',\n",
       " u'llanas',\n",
       " u'receiving',\n",
       " u'arrastradas']"
      ]
     },
     "execution_count": 49,
     "metadata": {},
     "output_type": "execute_result"
    }
   ],
   "source": [
    "rareWords[1:10]"
   ]
  },
  {
   "cell_type": "code",
   "execution_count": 50,
   "metadata": {},
   "outputs": [
    {
     "data": {
      "text/plain": [
       "[u'//gutenberg.net/license',\n",
       " u'//pglaf.org/donate',\n",
       " u'//pglaf.org/fundraising',\n",
       " u'//www.gutenberg.net',\n",
       " u'//www.gutenberg.org/2/0/0/2000/',\n",
       " u'asombrado.Pregunt\\xf3',\n",
       " u'bienintencionadamente',\n",
       " u'correspondi\\xe9ndoles',\n",
       " u'desembarazadamente',\n",
       " u'estraordinariamente',\n",
       " u'extraordinariamente',\n",
       " u'trademark/copyright',\n",
       " u'\\xa1Desagradecimiento']"
      ]
     },
     "execution_count": 50,
     "metadata": {},
     "output_type": "execute_result"
    }
   ],
   "source": [
    "# Palabras largas\n",
    "long_words = [w for w in ordered_tkns if len(w) > 17]\n",
    "sorted(long_words)"
   ]
  },
  {
   "cell_type": "code",
   "execution_count": 55,
   "metadata": {},
   "outputs": [
    {
     "data": {
      "text/plain": [
       "[u'-respondi\\xf3',\n",
       " u'Rocinante',\n",
       " u'caballero',\n",
       " u'caballeros',\n",
       " u'caballer\\xeda',\n",
       " u'gobernador',\n",
       " u'hermosura',\n",
       " u'intenci\\xf3n',\n",
       " u'pensamientos',\n",
       " u'respondi\\xf3']"
      ]
     },
     "execution_count": 55,
     "metadata": {},
     "output_type": "execute_result"
    }
   ],
   "source": [
    "# Palabras más largas de 8 caracteres que aparecen más de 100 veces\n",
    "sorted(w for w in ordered_tkns if len(w) > 8 and fdQuijote[w] > 100)"
   ]
  },
  {
   "cell_type": "markdown",
   "metadata": {},
   "source": [
    "### Bigramas"
   ]
  },
  {
   "cell_type": "code",
   "execution_count": 56,
   "metadata": {},
   "outputs": [
    {
     "name": "stdout",
     "output_type": "stream",
     "text": [
      "vuestra merced; Sancho Panza; -respondió Sancho-; vuesa merced;\n",
      "caballeros andantes; -dijo Sancho-; los ojos; todos los; del Toboso;\n",
      "otra cosa; caballero andante; sin duda; las manos; todas las; Project\n",
      "Gutenberg-tm; muchas veces; señora Dulcinea; cada uno; Triste Figura;\n",
      "los dos\n"
     ]
    }
   ],
   "source": [
    "quijote_text.collocations()"
   ]
  },
  {
   "cell_type": "code",
   "execution_count": null,
   "metadata": {
    "collapsed": true
   },
   "outputs": [],
   "source": []
  }
 ],
 "metadata": {
  "kernelspec": {
   "display_name": "Python 2",
   "language": "python",
   "name": "python2"
  },
  "language_info": {
   "codemirror_mode": {
    "name": "ipython",
    "version": 2
   },
   "file_extension": ".py",
   "mimetype": "text/x-python",
   "name": "python",
   "nbconvert_exporter": "python",
   "pygments_lexer": "ipython2",
   "version": "2.7.13"
  }
 },
 "nbformat": 4,
 "nbformat_minor": 2
}
